{
 "cells": [
  {
   "cell_type": "markdown",
   "metadata": {},
   "source": [
    "# 机器学习工程师纳米学位\n",
    "## 模型评价与验证\n",
    "## 项目 1: 预测波士顿房价\n",
    "\n",
    "\n",
    "欢迎来到机器学习工程师纳米学位的第一个项目！在此文件中，有些示例代码已经提供给你，但你还需要实现更多的功能来让项目成功运行。除非有明确要求，你无须修改任何已给出的代码。以**编程练习**开始的标题表示接下来的内容中有需要你必须实现的功能。每一部分都会有详细的指导，需要实现的部分也会在注释中以**TODO**标出。请仔细阅读所有的提示！\n",
    "\n",
    "除了实现代码外，你还**必须**回答一些与项目和实现有关的问题。每一个需要你回答的问题都会以**'问题 X'**为标题。请仔细阅读每个问题，并且在问题后的**'回答'**文字框中写出完整的答案。你的项目将会根据你对问题的回答和撰写代码所实现的功能来进行评分。\n",
    "\n",
    ">**提示：**Code 和 Markdown 区域可通过 **Shift + Enter** 快捷键运行。此外，Markdown可以通过双击进入编辑模式。"
   ]
  },
  {
   "cell_type": "markdown",
   "metadata": {},
   "source": [
    "---\n",
    "## 第一步. 导入数据\n",
    "在这个项目中，你将利用马萨诸塞州波士顿郊区的房屋信息数据训练和测试一个模型，并对模型的性能和预测能力进行测试。通过该数据训练后的好的模型可以被用来对房屋做特定预测---尤其是对房屋的价值。对于房地产经纪等人的日常工作来说，这样的预测模型被证明非常有价值。\n",
    "\n",
    "此项目的数据集来自[UCI机器学习知识库(数据集已下线)](https://archive.ics.uci.edu/ml/datasets.html)。波士顿房屋这些数据于1978年开始统计，共506个数据点，涵盖了麻省波士顿不同郊区房屋14种特征的信息。本项目对原始数据集做了以下处理：\n",
    "- 有16个`'MEDV'` 值为50.0的数据点被移除。 这很可能是由于这些数据点包含**遗失**或**看不到的值**。\n",
    "- 有1个数据点的 `'RM'` 值为8.78. 这是一个异常值，已经被移除。\n",
    "- 对于本项目，房屋的`'RM'`， `'LSTAT'`，`'PTRATIO'`以及`'MEDV'`特征是必要的，其余不相关特征已经被移除。\n",
    "- `'MEDV'`特征的值已经过必要的数学转换，可以反映35年来市场的通货膨胀效应。\n",
    "\n",
    "运行下面区域的代码以载入波士顿房屋数据集，以及一些此项目所需的Python库。如果成功返回数据集的大小，表示数据集已载入成功。"
   ]
  },
  {
   "cell_type": "code",
   "execution_count": 14,
   "metadata": {},
   "outputs": [],
   "source": [
    "# 载入此项目所需要的库\n",
    "import numpy as np\n",
    "import pandas as pd\n",
    "import visuals as vs # Supplementary code\n",
    "\n",
    "# 检查你的Python版本\n",
    "from sys import version_info\n",
    "if version_info.major != 2 and version_info.minor != 7:\n",
    "    raise Exception('请使用Python 2.7来完成此项目')\n",
    "    \n",
    "# 让结果在notebook中显示\n",
    "%matplotlib inline"
   ]
  },
  {
   "cell_type": "code",
   "execution_count": 73,
   "metadata": {},
   "outputs": [
    {
     "name": "stdout",
     "output_type": "stream",
     "text": [
      "Boston housing dataset has 489 data points with 4 variables each.\n"
     ]
    }
   ],
   "source": [
    "# 载入波士顿房屋的数据集\n",
    "data = pd.read_csv('housing.csv')\n",
    "prices = data['MEDV']\n",
    "features = data.drop('MEDV', axis = 1)\n",
    "    \n",
    "# 完成\n",
    "print \"Boston housing dataset has {} data points with {} variables each.\".format(*data.shape)"
   ]
  },
  {
   "cell_type": "markdown",
   "metadata": {},
   "source": [
    "---\n",
    "## 第二步. 分析数据\n",
    "在项目的第一个部分，你会对波士顿房地产数据进行初步的观察并给出你的分析。通过对数据的探索来熟悉数据可以让你更好地理解和解释你的结果。\n",
    "\n",
    "由于这个项目的最终目标是建立一个预测房屋价值的模型，我们需要将数据集分为**特征(features)**和**目标变量(target variable)**。\n",
    "- **特征** `'RM'`， `'LSTAT'`，和 `'PTRATIO'`，给我们提供了每个数据点的数量相关的信息。\n",
    "- **目标变量**：` 'MEDV'`，是我们希望预测的变量。\n",
    "\n",
    "他们分别被存在`features`和`prices`两个变量名中。"
   ]
  },
  {
   "cell_type": "markdown",
   "metadata": {},
   "source": [
    "### 编程练习 1：基础统计运算\n",
    "你的第一个编程练习是计算有关波士顿房价的描述统计数据。我们已为你导入了` numpy `，你需要使用这个库来执行必要的计算。这些统计数据对于分析模型的预测结果非常重要的。\n",
    "在下面的代码中，你要做的是：\n",
    "- 计算`prices`中的`'MEDV'`的最小值、最大值、均值、中值和标准差；\n",
    "- 将运算结果储存在相应的变量中。"
   ]
  },
  {
   "cell_type": "code",
   "execution_count": 9,
   "metadata": {},
   "outputs": [
    {
     "name": "stdout",
     "output_type": "stream",
     "text": [
      "Statistics for Boston housing dataset:\n",
      "\n",
      "Minimum price: $105,000.00\n",
      "Maximum price: $1,024,800.00\n",
      "Mean price: $454,342.94\n",
      "Median price $438,900.00\n",
      "Standard deviation of prices: $165,340.28\n"
     ]
    }
   ],
   "source": [
    "#TODO 1\n",
    "\n",
    "#目标：计算价值的最小值\n",
    "minimum_price = prices.min()\n",
    "\n",
    "#目标：计算价值的最大值\n",
    "maximum_price = prices.max()\n",
    "\n",
    "#目标：计算价值的平均值\n",
    "mean_price = prices.mean()\n",
    "\n",
    "#目标：计算价值的中值\n",
    "median_price = prices.median()\n",
    "\n",
    "#目标：计算价值的标准差\n",
    "std_price = prices.std()\n",
    "\n",
    "#目标：输出计算的结果\n",
    "print \"Statistics for Boston housing dataset:\\n\"\n",
    "print \"Minimum price: ${:,.2f}\".format(minimum_price)\n",
    "print \"Maximum price: ${:,.2f}\".format(maximum_price)\n",
    "print \"Mean price: ${:,.2f}\".format(mean_price)\n",
    "print \"Median price ${:,.2f}\".format(median_price)\n",
    "print \"Standard deviation of prices: ${:,.2f}\".format(std_price)"
   ]
  },
  {
   "cell_type": "markdown",
   "metadata": {},
   "source": [
    "### 问题 1 - 特征观察\n",
    "\n",
    "如前文所述，本项目中我们关注的是其中三个值:`'RM'`、`'LSTAT'` 和`'PTRATIO'`，对每一个数据点:\n",
    "- `'RM'` 是该地区中每个房屋的平均房间数量；\n",
    "- `'LSTAT'` 是指该地区有多少百分比的房东属于是低收入阶层（有工作但收入微薄）；\n",
    "- `'PTRATIO'` 是该地区的中学和小学里，学生和老师的数目比（`学生/老师`）。\n",
    "\n",
    "_凭直觉，上述三个特征中对每一个来说，你认为增大该特征的数值，`'MEDV'`的值会是**增大**还是**减小**呢？每一个答案都需要你给出理由。_\n",
    "\n",
    "**提示：**你预期一个`'RM'` 值是6的房屋跟`'RM'` 值是7的房屋相比，价值更高还是更低呢？"
   ]
  },
  {
   "cell_type": "markdown",
   "metadata": {},
   "source": [
    "### 问题 1 - 回答：\n",
    "\n",
    "增大 RM      MEDV 会增大， 房屋的价格与房间数量是正相关关系  \n",
    "增大 LSTAT   MEDV 会减小， 该区域的房价与收入水平有一点联系，大部分房东如果收入较低可以说明该地区房价可能偏低。  \n",
    "增大 PTRATIO MEDV 会减小， 说明该地区学生多，老师少，可能教育资源比较优秀。影响到房价。  "
   ]
  },
  {
   "cell_type": "markdown",
   "metadata": {},
   "source": [
    "### 编程练习 2: 数据分割与重排\n",
    "接下来，你需要把波士顿房屋数据集分成训练和测试两个子集。通常在这个过程中，数据也会被重排列，以消除数据集中由于顺序而产生的偏差。\n",
    "在下面的代码中，你需要\n",
    "\n",
    "使用 `sklearn.model_selection` 中的 `train_test_split`， 将`features`和`prices`的数据都分成用于训练的数据子集和用于测试的数据子集。\n",
    "  - 分割比例为：80%的数据用于训练，20%用于测试；\n",
    "  - 选定一个数值以设定 `train_test_split` 中的 `random_state` ，这会确保结果的一致性；"
   ]
  },
  {
   "cell_type": "code",
   "execution_count": 15,
   "metadata": {},
   "outputs": [],
   "source": [
    "# TODO 2\n",
    "\n",
    "# 提示： 导入train_test_split\n",
    "from sklearn.cross_validation import train_test_split  \n",
    "\n",
    "\n",
    "def generate_train_and_test(X, y):\n",
    "    \"\"\"打乱并分割数据为训练集和测试集\"\"\"\n",
    "    X_train,X_test, y_train, y_test = train_test_split(X,y,test_size=0.2, random_state=0)\n",
    "    return (X_train, X_test, y_train, y_test)\n",
    "    \n",
    "\n",
    "X_train, X_test, y_train, y_test = generate_train_and_test(features, prices)"
   ]
  },
  {
   "cell_type": "markdown",
   "metadata": {},
   "source": [
    "### 问题 2 - 训练及测试\n",
    "*将数据集按一定比例分为训练用的数据集和测试用的数据集对学习算法有什么好处？*\n",
    "\n",
    "*如果用模型已经见过的数据，例如部分训练集数据进行测试，又有什么坏处？*\n",
    "\n",
    "**提示：** 如果没有数据来对模型进行测试，会出现什么问题？"
   ]
  },
  {
   "cell_type": "markdown",
   "metadata": {},
   "source": [
    "### 问题 2 - 回答:\n",
    "\n",
    "一部分数据用于训练 拟合参数， 一部分数据用于测试，来验证模型是否准确。\n",
    "\n",
    "如果用已经见过的数据来做测试，会导致测试的结果非常准确，预测的结果不准确， 因为见过的数据参与训练，拟合的参数非常贴近这些数据。"
   ]
  },
  {
   "cell_type": "markdown",
   "metadata": {},
   "source": [
    "---\n",
    "## 第三步. 模型衡量标准\n",
    "在项目的第三步中，你需要了解必要的工具和技巧来让你的模型进行预测。用这些工具和技巧对每一个模型的表现做精确的衡量可以极大地增强你预测的信心。"
   ]
  },
  {
   "cell_type": "markdown",
   "metadata": {},
   "source": [
    "### 编程练习3：定义衡量标准\n",
    "如果不能对模型的训练和测试的表现进行量化地评估，我们就很难衡量模型的好坏。通常我们会定义一些衡量标准，这些标准可以通过对某些误差或者拟合程度的计算来得到。在这个项目中，你将通过运算[*决定系数*](http://stattrek.com/statistics/dictionary.aspx?definition=coefficient_of_determination) R<sup>2</sup> 来量化模型的表现。模型的决定系数是回归分析中十分常用的统计信息，经常被当作衡量模型预测能力好坏的标准。\n",
    "\n",
    "R<sup>2</sup>的数值范围从0至1，表示**目标变量**的预测值和实际值之间的相关程度平方的百分比。一个模型的R<sup>2</sup> 值为0还不如直接用**平均值**来预测效果好；而一个R<sup>2</sup> 值为1的模型则可以对目标变量进行完美的预测。从0至1之间的数值，则表示该模型中目标变量中有百分之多少能够用**特征**来解释。_模型也可能出现负值的R<sup>2</sup>，这种情况下模型所做预测有时会比直接计算目标变量的平均值差很多。_\n",
    "\n",
    "在下方代码的 `performance_metric` 函数中，你要实现：\n",
    "- 使用 `sklearn.metrics` 中的 [`r2_score`](http://scikit-learn.org/stable/modules/generated/sklearn.metrics.r2_score.html) 来计算 `y_true` 和 `y_predict`的R<sup>2</sup>值，作为对其表现的评判。\n",
    "- 将他们的表现评分储存到`score`变量中。\n",
    "\n",
    "或 \n",
    "\n",
    "- (可选) 不使用任何外部库，参考[决定系数的定义](https://en.wikipedia.org/wiki/Coefficient_of_determination)进行计算，这也可以帮助你更好的理解决定系数在什么情况下等于0或等于1。"
   ]
  },
  {
   "cell_type": "code",
   "execution_count": 16,
   "metadata": {
    "collapsed": true
   },
   "outputs": [],
   "source": [
    "# TODO 3\n",
    "\n",
    "# 提示： 导入r2_score\n",
    "from sklearn.metrics import r2_score\n",
    "\n",
    "def performance_metric(y_true, y_predict):\n",
    "    \"\"\"计算并返回预测值相比于预测值的分数\"\"\"\n",
    "    \n",
    "    score =  r2_score(y_true,y_predict)\n",
    "\n",
    "    return score"
   ]
  },
  {
   "cell_type": "code",
   "execution_count": null,
   "metadata": {
    "collapsed": true
   },
   "outputs": [],
   "source": [
    "# TODO 3 可选\n",
    "\n",
    "# 不允许导入任何计算决定系数的库\n",
    "\n",
    "def performance_metric2(y_true, y_predict):\n",
    "    \"\"\"计算并返回预测值相比于预测值的分数\"\"\"\n",
    "    \n",
    "    score = None\n",
    "\n",
    "    return score"
   ]
  },
  {
   "cell_type": "markdown",
   "metadata": {},
   "source": [
    "### 问题 3 - 拟合程度\n",
    "\n",
    "假设一个数据集有五个数据且一个模型做出下列目标变量的预测：\n",
    "\n",
    "| 真实数值 | 预测数值 |\n",
    "| :-------------: | :--------: |\n",
    "| 3.0 | 2.5 |\n",
    "| -0.5 | 0.0 |\n",
    "| 2.0 | 2.1 |\n",
    "| 7.0 | 7.8 |\n",
    "| 4.2 | 5.3 |\n",
    "*你觉得这个模型已成功地描述了目标变量的变化吗？如果成功，请解释为什么，如果没有，也请给出原因。*  \n",
    "\n",
    "**提示**：运行下方的代码，使用`performance_metric`函数来计算模型的决定系数。"
   ]
  },
  {
   "cell_type": "code",
   "execution_count": 17,
   "metadata": {},
   "outputs": [
    {
     "name": "stdout",
     "output_type": "stream",
     "text": [
      "Model has a coefficient of determination, R^2, of 0.923.\n"
     ]
    }
   ],
   "source": [
    "# 计算这个模型的预测结果的决定系数\n",
    "score = performance_metric([3, -0.5, 2, 7, 4.2], [2.5, 0.0, 2.1, 7.8, 5.3])\n",
    "print \"Model has a coefficient of determination, R^2, of {:.3f}.\".format(score)"
   ]
  },
  {
   "cell_type": "markdown",
   "metadata": {},
   "source": [
    "### 问题 3 - 回答:\n",
    "\n",
    "成功描述了目标变量的变化， R^2 的值贴近1."
   ]
  },
  {
   "cell_type": "markdown",
   "metadata": {},
   "source": [
    "---\n",
    "## 第四步. 分析模型的表现\n",
    "在项目的第四步，我们来看一下不同参数下，模型在训练集和验证集上的表现。这里，我们专注于一个特定的算法（带剪枝的决策树，但这并不是这个项目的重点），和这个算法的一个参数 `'max_depth'`。用全部训练集训练，选择不同`'max_depth'` 参数，观察这一参数的变化如何影响模型的表现。画出模型的表现来对于分析过程十分有益，这可以让我们看到一些单看结果看不到的行为。"
   ]
  },
  {
   "cell_type": "markdown",
   "metadata": {},
   "source": [
    "### 学习曲线\n",
    "下方区域内的代码会输出四幅图像，它们是一个决策树模型在不同最大深度下的表现。每一条曲线都直观得显示了随着训练数据量的增加，模型学习曲线的在训练集评分和验证集评分的变化，评分使用决定系数R<sup>2</sup>。曲线的阴影区域代表的是该曲线的不确定性（用标准差衡量）。\n",
    "\n",
    "运行下方区域中的代码，并利用输出的图形回答下面的问题。"
   ]
  },
  {
   "cell_type": "code",
   "execution_count": 18,
   "metadata": {
    "scrolled": false
   },
   "outputs": [
    {
     "data": {
      "image/png": "[encoded data removed]",
      "text/plain": [
       "<matplotlib.figure.Figure at 0xb3f1940>"
      ]
     },
     "metadata": {},
     "output_type": "display_data"
    }
   ],
   "source": [
    "# 根据不同的训练集大小，和最大深度，生成学习曲线\n",
    "vs.ModelLearning(X_train, y_train)"
   ]
  },
  {
   "cell_type": "markdown",
   "metadata": {},
   "source": [
    "### 问题 4 - 学习曲线\n",
    "*选择上述图像中的其中一个，并给出其最大深度。随着训练数据量的增加，训练集曲线的评分有怎样的变化？验证集曲线呢？如果有更多的训练数据，是否能有效提升模型的表现呢？*\n",
    "\n",
    "**提示：**学习曲线的评分是否最终会收敛到特定的值？"
   ]
  },
  {
   "cell_type": "markdown",
   "metadata": {},
   "source": [
    "### 问题 4 - 回答:\n",
    "\n",
    "figure 1\n",
    "训练的评分一直很低， 表示 其模型拟合的不是特好，有更多的训练数据不会提高模型的表现， 需要提高模型复杂度， \n"
   ]
  },
  {
   "cell_type": "markdown",
   "metadata": {},
   "source": [
    "### 复杂度曲线\n",
    "下列代码内的区域会输出一幅图像，它展示了一个已经经过训练和验证的决策树模型在不同最大深度条件下的表现。这个图形将包含两条曲线，一个是训练集的变化，一个是验证集的变化。跟**学习曲线**相似，阴影区域代表该曲线的不确定性，模型训练和测试部分的评分都用的 `performance_metric` 函数。\n",
    "\n",
    "运行下方区域中的代码，并利用输出的图形并回答下面的两个问题。"
   ]
  },
  {
   "cell_type": "code",
   "execution_count": 19,
   "metadata": {},
   "outputs": [
    {
     "data": {
      "image/png": "[encoded data removed]",
      "text/plain": [
       "<matplotlib.figure.Figure at 0xbb3fc88>"
      ]
     },
     "metadata": {},
     "output_type": "display_data"
    }
   ],
   "source": [
    "# 根据不同的最大深度参数，生成复杂度曲线\n",
    "vs.ModelComplexity(X_train, y_train)"
   ]
  },
  {
   "cell_type": "markdown",
   "metadata": {},
   "source": [
    "### 问题 5 - 偏差（bias）与方差（variance）之间的权衡取舍\n",
    "*当模型以最大深度 1训练时，模型的预测是出现很大的偏差还是出现了很大的方差？当模型以最大深度10训练时，情形又如何呢？图形中的哪些特征能够支持你的结论？*\n",
    "  \n",
    "**提示：** 你如何得知模型是否出现了偏差很大或者方差很大的问题？"
   ]
  },
  {
   "cell_type": "markdown",
   "metadata": {},
   "source": [
    "### 问题 5 - 回答:\n",
    "\n",
    "最大深度为1时， 是偏差问题，模型不够敏感，，欠拟合，需要提高复杂度  \n",
    "最大深度为10时， 是方差问题， 模型很好的贴近训练数据，但是验证评分较差， 过拟合  "
   ]
  },
  {
   "cell_type": "markdown",
   "metadata": {},
   "source": [
    "### 问题 6- 最优模型的猜测\n",
    "*你认为最大深度是多少的模型能够最好地对未见过的数据进行预测？你得出这个答案的依据是什么？*"
   ]
  },
  {
   "cell_type": "markdown",
   "metadata": {},
   "source": [
    "### 问题 6 - 回答:\n",
    "最大深度 是4的时候能够很好地对未见的数据进行预测。  \n",
    "4之后的 验证评分没有较好的提升，训练评分越来越高，过拟合了  \n",
    "4只前的 验证评分和训练评分都在不断提升，处理欠拟合阶段  \n"
   ]
  },
  {
   "cell_type": "markdown",
   "metadata": {},
   "source": [
    "---\n",
    "## 第五步. 选择最优参数"
   ]
  },
  {
   "cell_type": "markdown",
   "metadata": {},
   "source": [
    "### 问题 7- 网格搜索（Grid Search）\n",
    "*什么是网格搜索法？如何用它来优化模型？*\n"
   ]
  },
  {
   "cell_type": "markdown",
   "metadata": {},
   "source": [
    "### 问题 7 - 回答:\n",
    "\n",
    "将各参数变量值的可行区间（可从小到大），划分为一系列的小区，由计算机顺序算出对应各参数变量值组合，所对应的误差目标值并逐一比较择优，从而求得该区间内最小目标值及其对应的最佳特定参数值。这种估值方法可保证所得的搜索解基本是全局最优解，可避免重大误差\n"
   ]
  },
  {
   "cell_type": "markdown",
   "metadata": {},
   "source": [
    "### 问题 8 - 交叉验证\n",
    "- 什么是K折交叉验证法（k-fold cross-validation）？\n",
    "- [GridSearchCV](http://scikit-learn.org/stable/modules/generated/sklearn.model_selection.GridSearchCV.html)是如何结合交叉验证来完成对最佳参数组合的选择的？\n",
    "- [GridSearchCV](http://scikit-learn.org/stable/modules/generated/sklearn.model_selection.GridSearchCV.html)中的`'cv_results_'`属性能告诉我们什么？\n",
    "- 网格搜索时如果不使用交叉验证会有什么问题？交叉验证又是如何解决这个问题的？\n",
    "\n",
    "**提示：** 在下面 fit_model函数最后加入 `print pd.DataFrame(grid.cv_results_)` 可以帮你查看更多信息。"
   ]
  },
  {
   "cell_type": "markdown",
   "metadata": {},
   "source": [
    "### 问题 8 - 回答：\n",
    "\n",
    "K-fold cross-validation (k-CV)则是Double cross-validation的延伸，做法是将数据集分成k个子集，每个子集均做一次测试集，其余的作为训练集。  \n",
    "k-CV交叉验证重复k次，每次选择一个子集作为测试集，并将k次的平均交叉验证识别率作为结果。  \n",
    "\n",
    "优点：所有的样本都被作为了训练集和测试集，每个样本都被验证一次。10-folder通常被使用。 \n",
    "\n",
    "网格搜索就是尝试各种可能的(C, g)对值，然后进行交叉验证，找出使交叉验证精确度最高的(C, g)对。   \n",
    "\n",
    "cv_results_ 属性告诉我们 交叉验证的每一次的运算结果和各个指标\n",
    "\n",
    "TODO"
   ]
  },
  {
   "cell_type": "markdown",
   "metadata": {},
   "source": [
    "### 编程练习 4：训练最优模型\n",
    "在这个练习中，你将需要将所学到的内容整合，使用**决策树算法**训练一个模型。为了得出的是一个最优模型，你需要使用网格搜索法训练模型，以找到最佳的 `'max_depth'` 参数。你可以把`'max_depth'` 参数理解为决策树算法在做出预测前，允许其对数据提出问题的数量。决策树是**监督学习算法**中的一种。\n",
    "\n",
    "在下方 `fit_model` 函数中，你需要做的是：\n",
    "1. **定义 `'cross_validator'` 变量**: 使用 `sklearn.model_selection` 中的 [`KFold`](http://scikit-learn.org/stable/modules/generated/sklearn.model_selection.KFold.html) 创建一个交叉验证生成器对象;\n",
    "2. **定义 `'regressor'` 变量**: 使用  `sklearn.tree` 中的 [`DecisionTreeRegressor`](http://scikit-learn.org/stable/modules/generated/sklearn.tree.DecisionTreeRegressor.html) 创建一个决策树的回归函数;\n",
    "3. **定义 `'params'` 变量**: 为 `'max_depth'` 参数创造一个字典，它的值是从1至10的数组;\n",
    "4. **定义 `'scoring_fnc'` 变量**: 使用 `sklearn.metrics` 中的 [`make_scorer`](http://scikit-learn.org/stable/modules/generated/sklearn.metrics.make_scorer.html)  创建一个评分函数；\n",
    " 将 `‘performance_metric’` 作为参数传至这个函数中；\n",
    "5. **定义 `'grid'` 变量**: 使用 `sklearn.model_selection` 中的 [`GridSearchCV`](http://scikit-learn.org/stable/modules/generated/sklearn.model_selection.GridSearchCV.html) 创建一个网格搜索对象；将变量`'regressor'`, `'params'`, `'scoring_fnc'`和 `'cross_validator'` 作为参数传至这个对象构造函数中；\n",
    "  \n",
    "如果你对python函数的默认参数定义和传递不熟悉，可以参考这个MIT课程的[视频](http://cn-static.udacity.com/mlnd/videos/MIT600XXT114-V004200_DTH.mp4)。"
   ]
  },
  {
   "cell_type": "code",
   "execution_count": 68,
   "metadata": {},
   "outputs": [],
   "source": [
    "# TODO 4\n",
    "\n",
    "#提示: 导入 'KFold' 'DecisionTreeRegressor' 'make_scorer' 'GridSearchCV' \n",
    "from sklearn.model_selection import KFold\n",
    "from sklearn.tree import DecisionTreeRegressor\n",
    "from sklearn.metrics import make_scorer\n",
    "from sklearn.model_selection import GridSearchCV\n",
    "\n",
    "\n",
    "def fit_model(X, y):\n",
    "    \"\"\" 基于输入数据 [X,y]，利于网格搜索找到最优的决策树模型\"\"\"\n",
    "    \n",
    "    cross_validator =  KFold(n_splits=2, random_state=None, shuffle=False)\n",
    "    \n",
    "    regressor =  DecisionTreeRegressor()\n",
    "\n",
    "    params = {\"max_depth\": [1,2,3,4,5,6,7,8,9,10]}\n",
    "\n",
    "    scoring_fnc = make_scorer(performance_metric)\n",
    "\n",
    "    grid = GridSearchCV(regressor,params,scoring=scoring_fnc,cv=cross_validator)\n",
    "\n",
    "    # 基于输入数据 [X,y]，进行网格搜索\n",
    "    grid = grid.fit(X, y)\n",
    "    \n",
    "    # print pd.DataFrame(grid.cv_results_) \n",
    "    \n",
    "    # 返回网格搜索后的最优模型\n",
    "    return grid.best_estimator_\n"
   ]
  },
  {
   "cell_type": "markdown",
   "metadata": {},
   "source": [
    "### 编程练习 4：训练最优模型 （可选）\n",
    "在这个练习中，你将需要将所学到的内容整合，使用**决策树算法**训练一个模型。为了得出的是一个最优模型，你需要使用网格搜索法训练模型，以找到最佳的 `'max_depth'` 参数。你可以把`'max_depth'` 参数理解为决策树算法在做出预测前，允许其对数据提出问题的数量。决策树是**监督学习算法**中的一种。\n",
    "\n",
    "在下方 `fit_model` 函数中，你需要做的是：\n",
    "\n",
    "- 遍历参数`‘max_depth’`的可选值 1～10，构造对应模型\n",
    "- 计算当前模型的交叉验证分数\n",
    "- 返回最优交叉验证分数对应的模型"
   ]
  },
  {
   "cell_type": "code",
   "execution_count": 56,
   "metadata": {
    "collapsed": true
   },
   "outputs": [],
   "source": [
    "# TODO 4 可选\n",
    "\n",
    "'''\n",
    "不允许使用 DecisionTreeRegressor 以外的任何 sklearn 库\n",
    "\n",
    "提示: 你可能需要实现下面的 cross_val_score 函数\n",
    "\n",
    "def cross_val_score(estimator, X, y, scoring = performance_metric, cv=3):\n",
    "    \"\"\" 返回每组交叉验证的模型分数的数组 \"\"\"\n",
    "    scores = [0,0,0]\n",
    "    return scores\n",
    "'''\n",
    "\n",
    "def fit_model2(X, y):\n",
    "    \"\"\" 基于输入数据 [X,y]，利于网格搜索找到最优的决策树模型\"\"\"\n",
    "    \n",
    "    #最优交叉验证分数对应的最优模型\n",
    "    best_estimator = None\n",
    "    \n",
    "    return best_estimator"
   ]
  },
  {
   "cell_type": "markdown",
   "metadata": {},
   "source": [
    "### 问题 9 - 最优模型\n",
    "*最优模型的最大深度（maximum depth）是多少？此答案与你在**问题 6**所做的猜测是否相同？*\n",
    "\n",
    "运行下方区域内的代码，将决策树回归函数代入训练数据的集合，以得到最优化的模型。"
   ]
  },
  {
   "cell_type": "code",
   "execution_count": 57,
   "metadata": {
    "scrolled": true
   },
   "outputs": [
    {
     "name": "stdout",
     "output_type": "stream",
     "text": [
      "   mean_fit_time  mean_score_time  mean_test_score  mean_train_score  \\\n",
      "0         0.0015           0.0000         0.398514          0.478659   \n",
      "1         0.0005           0.0005         0.683964          0.737659   \n",
      "2         0.0010           0.0000         0.778931          0.842614   \n",
      "3         0.0005           0.0005         0.817213          0.892578   \n",
      "4         0.0010           0.0000         0.816071          0.924455   \n",
      "5         0.0010           0.0005         0.801526          0.948750   \n",
      "6         0.0010           0.0010         0.788386          0.961610   \n",
      "7         0.0010           0.0010         0.788992          0.974453   \n",
      "8         0.0010           0.0005         0.753339          0.983560   \n",
      "9         0.0010           0.0005         0.760584          0.990293   \n",
      "\n",
      "  param_max_depth              params  rank_test_score  split0_test_score  \\\n",
      "0               1   {u'max_depth': 1}               10           0.456120   \n",
      "1               2   {u'max_depth': 2}                9           0.721666   \n",
      "2               3   {u'max_depth': 3}                6           0.795864   \n",
      "3               4   {u'max_depth': 4}                1           0.830096   \n",
      "4               5   {u'max_depth': 5}                2           0.823722   \n",
      "5               6   {u'max_depth': 6}                3           0.826096   \n",
      "6               7   {u'max_depth': 7}                5           0.799886   \n",
      "7               8   {u'max_depth': 8}                4           0.804339   \n",
      "8               9   {u'max_depth': 9}                8           0.764183   \n",
      "9              10  {u'max_depth': 10}                7           0.767904   \n",
      "\n",
      "   split0_train_score  split1_test_score  split1_train_score  std_fit_time  \\\n",
      "0            0.481111           0.340612            0.476207  4.999638e-04   \n",
      "1            0.730167           0.646069            0.745152  4.999638e-04   \n",
      "2            0.834700           0.761911            0.850528  0.000000e+00   \n",
      "3            0.888113           0.804263            0.897043  4.999638e-04   \n",
      "4            0.921054           0.808380            0.927856  0.000000e+00   \n",
      "5            0.942958           0.776830            0.954542  1.192093e-07   \n",
      "6            0.956853           0.776827            0.966368  0.000000e+00   \n",
      "7            0.967174           0.773566            0.981731  1.192093e-07   \n",
      "8            0.979498           0.742439            0.987622  1.192093e-07   \n",
      "9            0.986436           0.753226            0.994150  1.192093e-07   \n",
      "\n",
      "   std_score_time  std_test_score  std_train_score  \n",
      "0    0.000000e+00        0.057754         0.002452  \n",
      "1    4.999638e-04        0.037798         0.007492  \n",
      "2    0.000000e+00        0.016976         0.007914  \n",
      "3    4.999638e-04        0.012916         0.004465  \n",
      "4    0.000000e+00        0.007671         0.003401  \n",
      "5    4.999638e-04        0.024633         0.005792  \n",
      "6    0.000000e+00        0.011529         0.004757  \n",
      "7    1.192093e-07        0.015386         0.007278  \n",
      "8    5.000830e-04        0.010872         0.004062  \n",
      "9    5.000830e-04        0.007339         0.003857  \n",
      "Parameter 'max_depth' is 4 for the optimal model.\n"
     ]
    }
   ],
   "source": [
    "# 基于熟练数据，获得最优模型\n",
    "optimal_reg = fit_model(X_train, y_train)\n",
    "\n",
    "# 输出最优模型的 'max_depth' 参数\n",
    "print \"Parameter 'max_depth' is {} for the optimal model.\".format(optimal_reg.get_params()['max_depth'])"
   ]
  },
  {
   "cell_type": "markdown",
   "metadata": {},
   "source": [
    "### 问题 9 - 回答：\n",
    "\n",
    "最优化的答案是4， 与估计的一致"
   ]
  },
  {
   "cell_type": "markdown",
   "metadata": {},
   "source": [
    "## 第六步. 做出预测\n",
    "当我们用数据训练出一个模型，它现在就可用于对新的数据进行预测。在决策树回归函数中，模型已经学会对新输入的数据*提问*，并返回对**目标变量**的预测值。你可以用这个预测来获取数据未知目标变量的信息，这些数据必须是不包含在训练数据之内的。"
   ]
  },
  {
   "cell_type": "markdown",
   "metadata": {},
   "source": [
    "### 问题 10 - 预测销售价格\n",
    "想像你是一个在波士顿地区的房屋经纪人，并期待使用此模型以帮助你的客户评估他们想出售的房屋。你已经从你的三个客户收集到以下的资讯:\n",
    "\n",
    "| 特征 | 客戶 1 | 客戶 2 | 客戶 3 |\n",
    "| :---: | :---: | :---: | :---: |\n",
    "| 房屋内房间总数 | 5 间房间 | 4 间房间 | 8 间房间 |\n",
    "| 社区贫困指数（％被认为是贫困阶层） | 17% | 32% | 3% |\n",
    "| 邻近学校的学生-老师比例 | 15：1 | 22：1 | 12：1 |\n",
    "\n",
    "*你会建议每位客户的房屋销售的价格为多少？从房屋特征的数值判断，这样的价格合理吗？为什么？* \n",
    "\n",
    "**提示：**用你在**分析数据**部分计算出来的统计信息来帮助你证明你的答案。\n",
    "\n",
    "运行下列的代码区域，使用你优化的模型来为每位客户的房屋价值做出预测。"
   ]
  },
  {
   "cell_type": "code",
   "execution_count": 58,
   "metadata": {},
   "outputs": [
    {
     "name": "stdout",
     "output_type": "stream",
     "text": [
      "Predicted selling price for Client 1's home: $391,183.33\n",
      "Predicted selling price for Client 2's home: $189,123.53\n",
      "Predicted selling price for Client 3's home: $942,666.67\n"
     ]
    }
   ],
   "source": [
    "# 生成三个客户的数据\n",
    "client_data = [[5, 17, 15], # 客户 1\n",
    "               [4, 32, 22], # 客户 2\n",
    "               [8, 3, 12]]  # 客户 3\n",
    "\n",
    "# 进行预测\n",
    "predicted_price = optimal_reg.predict(client_data)\n",
    "for i, price in enumerate(predicted_price):\n",
    "    print \"Predicted selling price for Client {}'s home: ${:,.2f}\".format(i+1, price)"
   ]
  },
  {
   "cell_type": "markdown",
   "metadata": {},
   "source": [
    "### 问题 10 - 回答：\n",
    "客户1 预测价格 $391,183.33，房间数5，穷人数中等，教育资源一般，15个学生对1位老师。\n",
    "客户2 预测价格 $189,123.53，房间数4，穷人数偏多，教育资源稀缺，22位学生对1位老师。   \n",
    "客户3 预测价格 $942,666.67，房间书8，穷人占比少，教育资源较为优秀，12位学生对应1位老师   \n",
    "预测价格比较合理。   "
   ]
  },
  {
   "cell_type": "markdown",
   "metadata": {},
   "source": [
    "### 编程练习 5\n",
    "你刚刚预测了三个客户的房子的售价。在这个练习中，你将用你的最优模型在整个测试数据上进行预测, 并计算相对于目标变量的决定系数 R<sup>2</sup>的值**。"
   ]
  },
  {
   "cell_type": "code",
   "execution_count": 74,
   "metadata": {},
   "outputs": [
    {
     "name": "stdout",
     "output_type": "stream",
     "text": [
      "Optimal model has R^2 score 0.55 on test data\n"
     ]
    }
   ],
   "source": [
    "#TODO 5\n",
    "\n",
    "# 提示：你可能需要用到 X_test, y_test, optimal_reg, performance_metric\n",
    "# 提示：你可能需要参考问题10的代码进行预测\n",
    "# 提示：你可能需要参考问题3的代码来计算R^2的值\n",
    "\n",
    "y_pre = optimal_reg.predict(X_test)\n",
    "r2 = r2_score(y_test,y_pre)\n",
    "\n",
    "print \"Optimal model has R^2 score {:,.2f} on test data\".format(r2)"
   ]
  },
  {
   "cell_type": "markdown",
   "metadata": {},
   "source": [
    "### 问题11 - 分析决定系数\n",
    "\n",
    "你刚刚计算了最优模型在测试集上的决定系数，你会如何评价这个结果？"
   ]
  },
  {
   "cell_type": "markdown",
   "metadata": {},
   "source": [
    "### 问题11 - 回答\n",
    "\n",
    "一般，还需要更多的数据或者添加一些有用的特征来提高 R2"
   ]
  },
  {
   "cell_type": "markdown",
   "metadata": {},
   "source": [
    "### 模型健壮性\n",
    "\n",
    "一个最优的模型不一定是一个健壮模型。有的时候模型会过于复杂或者过于简单，以致于难以泛化新增添的数据；有的时候模型采用的学习算法并不适用于特定的数据结构；有的时候样本本身可能有太多噪点或样本过少，使得模型无法准确地预测目标变量。这些情况下我们会说模型是欠拟合的。\n",
    "\n",
    "### 问题 12 - 模型健壮性\n",
    "\n",
    "模型是否足够健壮来保证预测的一致性？\n",
    "\n",
    "**提示**: 执行下方区域中的代码，采用不同的训练和测试集执行 `fit_model` 函数10次。注意观察对一个特定的客户来说，预测是如何随训练数据的变化而变化的。"
   ]
  },
  {
   "cell_type": "code",
   "execution_count": 59,
   "metadata": {},
   "outputs": [
    {
     "name": "stdout",
     "output_type": "stream",
     "text": [
      "   mean_fit_time  mean_score_time  mean_test_score  mean_train_score  \\\n",
      "0         0.0015           0.0005         0.398514          0.478659   \n",
      "1         0.0005           0.0005         0.683964          0.737659   \n",
      "2         0.0000           0.0010         0.778931          0.842614   \n",
      "3         0.0010           0.0000         0.817204          0.892578   \n",
      "4         0.0010           0.0000         0.813860          0.924455   \n",
      "5         0.0010           0.0000         0.801493          0.948750   \n",
      "6         0.0010           0.0000         0.788880          0.961610   \n",
      "7         0.0010           0.0000         0.787796          0.974453   \n",
      "8         0.0015           0.0005         0.779957          0.983560   \n",
      "9         0.0010           0.0000         0.760136          0.990293   \n",
      "\n",
      "  param_max_depth              params  rank_test_score  split0_test_score  \\\n",
      "0               1   {u'max_depth': 1}               10           0.456120   \n",
      "1               2   {u'max_depth': 2}                9           0.721666   \n",
      "2               3   {u'max_depth': 3}                7           0.795864   \n",
      "3               4   {u'max_depth': 4}                1           0.830079   \n",
      "4               5   {u'max_depth': 5}                2           0.820151   \n",
      "5               6   {u'max_depth': 6}                3           0.827469   \n",
      "6               7   {u'max_depth': 7}                4           0.800677   \n",
      "7               8   {u'max_depth': 8}                5           0.805535   \n",
      "8               9   {u'max_depth': 9}                6           0.783377   \n",
      "9              10  {u'max_depth': 10}                8           0.767951   \n",
      "\n",
      "   split0_train_score  split1_test_score  split1_train_score  std_fit_time  \\\n",
      "0            0.481111           0.340612            0.476207  5.000830e-04   \n",
      "1            0.730167           0.646069            0.745152  4.999638e-04   \n",
      "2            0.834700           0.761911            0.850528  0.000000e+00   \n",
      "3            0.888113           0.804263            0.897043  0.000000e+00   \n",
      "4            0.921054           0.807535            0.927856  1.192093e-07   \n",
      "5            0.942958           0.775383            0.954542  0.000000e+00   \n",
      "6            0.956853           0.777021            0.966368  0.000000e+00   \n",
      "7            0.967174           0.769965            0.981731  0.000000e+00   \n",
      "8            0.979498           0.776519            0.987622  5.000830e-04   \n",
      "9            0.986436           0.752281            0.994150  0.000000e+00   \n",
      "\n",
      "   std_score_time  std_test_score  std_train_score  \n",
      "0    4.999638e-04        0.057754         0.002452  \n",
      "1    4.999638e-04        0.037798         0.007492  \n",
      "2    1.192093e-07        0.016976         0.007914  \n",
      "3    0.000000e+00        0.012908         0.004465  \n",
      "4    0.000000e+00        0.006308         0.003401  \n",
      "5    0.000000e+00        0.026042         0.005792  \n",
      "6    0.000000e+00        0.011828         0.004757  \n",
      "7    0.000000e+00        0.017785         0.007278  \n",
      "8    4.999638e-04        0.003429         0.004062  \n",
      "9    0.000000e+00        0.007835         0.003857  \n",
      "Trial 1: $391,183.33\n",
      "   mean_fit_time  mean_score_time  mean_test_score  mean_train_score  \\\n",
      "0         0.0010           0.0010         0.397999          0.468233   \n",
      "1         0.0010           0.0005         0.673866          0.724403   \n",
      "2         0.0010           0.0000         0.784210          0.836391   \n",
      "3         0.0005           0.0010         0.802792          0.886446   \n",
      "4         0.0010           0.0000         0.799813          0.918380   \n",
      "5         0.0010           0.0000         0.785691          0.943300   \n",
      "6         0.0010           0.0000         0.770736          0.964679   \n",
      "7         0.0015           0.0000         0.750837          0.981516   \n",
      "8         0.0015           0.0000         0.740732          0.989980   \n",
      "9         0.0010           0.0000         0.720198          0.994336   \n",
      "\n",
      "  param_max_depth              params  rank_test_score  split0_test_score  \\\n",
      "0               1   {u'max_depth': 1}               10           0.351243   \n",
      "1               2   {u'max_depth': 2}                9           0.651605   \n",
      "2               3   {u'max_depth': 3}                4           0.762639   \n",
      "3               4   {u'max_depth': 4}                1           0.791543   \n",
      "4               5   {u'max_depth': 5}                2           0.780334   \n",
      "5               6   {u'max_depth': 6}                3           0.768534   \n",
      "6               7   {u'max_depth': 7}                5           0.748756   \n",
      "7               8   {u'max_depth': 8}                6           0.718316   \n",
      "8               9   {u'max_depth': 9}                7           0.719332   \n",
      "9              10  {u'max_depth': 10}                8           0.678835   \n",
      "\n",
      "   split0_train_score  split1_test_score  split1_train_score  std_fit_time  \\\n",
      "0            0.498703           0.444995            0.437762  0.000000e+00   \n",
      "1            0.747280           0.696241            0.701527  0.000000e+00   \n",
      "2            0.838228           0.805891            0.834554  1.192093e-07   \n",
      "3            0.881759           0.814098            0.891133  4.999638e-04   \n",
      "4            0.911369           0.819392            0.925392  0.000000e+00   \n",
      "5            0.937843           0.802937            0.948757  0.000000e+00   \n",
      "6            0.956387           0.792828            0.972971  1.192093e-07   \n",
      "7            0.977306           0.783525            0.985726  4.999638e-04   \n",
      "8            0.987906           0.762243            0.992054  4.999638e-04   \n",
      "9            0.993181           0.761774            0.995491  0.000000e+00   \n",
      "\n",
      "   std_score_time  std_test_score  std_train_score  \n",
      "0    1.192093e-07        0.046876         0.030471  \n",
      "1    4.999638e-04        0.022318         0.022877  \n",
      "2    0.000000e+00        0.021626         0.001837  \n",
      "3    0.000000e+00        0.011278         0.004687  \n",
      "4    0.000000e+00        0.019529         0.007011  \n",
      "5    0.000000e+00        0.017201         0.005457  \n",
      "6    0.000000e+00        0.022036         0.008292  \n",
      "7    0.000000e+00        0.032605         0.004210  \n",
      "8    0.000000e+00        0.021456         0.002074  \n",
      "9    0.000000e+00        0.041469         0.001155  \n",
      "Trial 2: $411,417.39\n",
      "   mean_fit_time  mean_score_time  mean_test_score  mean_train_score  \\\n",
      "0         0.0010           0.0000         0.373443          0.498128   \n",
      "1         0.0005           0.0005         0.644739          0.744815   \n",
      "2         0.0005           0.0005         0.742025          0.845433   \n",
      "3         0.0005           0.0005         0.771432          0.896418   \n",
      "4         0.0010           0.0000         0.756735          0.934239   \n",
      "5         0.0010           0.0005         0.754746          0.961071   \n",
      "6         0.0010           0.0000         0.744905          0.980336   \n",
      "7         0.0010           0.0000         0.735435          0.988839   \n",
      "8         0.0010           0.0000         0.734077          0.994959   \n",
      "9         0.0010           0.0005         0.740540          0.998407   \n",
      "\n",
      "  param_max_depth              params  rank_test_score  split0_test_score  \\\n",
      "0               1   {u'max_depth': 1}               10           0.380196   \n",
      "1               2   {u'max_depth': 2}                9           0.672993   \n",
      "2               3   {u'max_depth': 3}                5           0.754560   \n",
      "3               4   {u'max_depth': 4}                1           0.812876   \n",
      "4               5   {u'max_depth': 5}                2           0.792138   \n",
      "5               6   {u'max_depth': 6}                3           0.780404   \n",
      "6               7   {u'max_depth': 7}                4           0.784570   \n",
      "7               8   {u'max_depth': 8}                7           0.759341   \n",
      "8               9   {u'max_depth': 9}                8           0.756394   \n",
      "9              10  {u'max_depth': 10}                6           0.781262   \n",
      "\n",
      "   split0_train_score  split1_test_score  split1_train_score  std_fit_time  \\\n",
      "0            0.496105           0.366656            0.500150  1.192093e-07   \n",
      "1            0.724833           0.616341            0.764797  4.999638e-04   \n",
      "2            0.821504           0.729425            0.869363  5.000830e-04   \n",
      "3            0.879821           0.729775            0.913015  4.999638e-04   \n",
      "4            0.924820           0.721150            0.943659  0.000000e+00   \n",
      "5            0.952928           0.728956            0.969214  1.192093e-07   \n",
      "6            0.978924           0.705037            0.981747  0.000000e+00   \n",
      "7            0.987439           0.711406            0.990239  0.000000e+00   \n",
      "8            0.993454           0.711644            0.996464  0.000000e+00   \n",
      "9            0.998042           0.699610            0.998772  1.192093e-07   \n",
      "\n",
      "   std_score_time  std_test_score  std_train_score  \n",
      "0          0.0000        0.006770         0.002023  \n",
      "1          0.0005        0.028326         0.019982  \n",
      "2          0.0005        0.012568         0.023929  \n",
      "3          0.0005        0.041551         0.016597  \n",
      "4          0.0000        0.035493         0.009420  \n",
      "5          0.0005        0.025724         0.008143  \n",
      "6          0.0000        0.039767         0.001411  \n",
      "7          0.0000        0.023968         0.001400  \n",
      "8          0.0000        0.022375         0.001505  \n",
      "9          0.0005        0.040826         0.000365  \n",
      "Trial 3: $415,800.00\n"
     ]
    },
    {
     "name": "stdout",
     "output_type": "stream",
     "text": [
      "   mean_fit_time  mean_score_time  mean_test_score  mean_train_score  \\\n",
      "0         0.0005           0.0005         0.341395          0.499205   \n",
      "1         0.0010           0.0000         0.644485          0.757307   \n",
      "2         0.0005           0.0010         0.759004          0.850259   \n",
      "3         0.0010           0.0000         0.759791          0.899049   \n",
      "4         0.0010           0.0005         0.754051          0.928987   \n",
      "5         0.0020           0.0005         0.740060          0.950054   \n",
      "6         0.0010           0.0000         0.734677          0.963291   \n",
      "7         0.0010           0.0005         0.714874          0.974989   \n",
      "8         0.0010           0.0000         0.701244          0.987470   \n",
      "9         0.0010           0.0010         0.682560          0.992917   \n",
      "\n",
      "  param_max_depth              params  rank_test_score  split0_test_score  \\\n",
      "0               1   {u'max_depth': 1}               10           0.390197   \n",
      "1               2   {u'max_depth': 2}                9           0.696668   \n",
      "2               3   {u'max_depth': 3}                2           0.809428   \n",
      "3               4   {u'max_depth': 4}                1           0.820090   \n",
      "4               5   {u'max_depth': 5}                3           0.817966   \n",
      "5               6   {u'max_depth': 6}                4           0.814164   \n",
      "6               7   {u'max_depth': 7}                5           0.805584   \n",
      "7               8   {u'max_depth': 8}                6           0.792858   \n",
      "8               9   {u'max_depth': 9}                7           0.783352   \n",
      "9              10  {u'max_depth': 10}                8           0.772048   \n",
      "\n",
      "   split0_train_score  split1_test_score  split1_train_score  std_fit_time  \\\n",
      "0            0.466421           0.292342            0.531989  4.999638e-04   \n",
      "1            0.735713           0.592034            0.778901  1.192093e-07   \n",
      "2            0.836577           0.708322            0.863942  4.999638e-04   \n",
      "3            0.891993           0.699182            0.906105  0.000000e+00   \n",
      "4            0.927966           0.689808            0.930008  1.192093e-07   \n",
      "5            0.954236           0.665576            0.945871  0.000000e+00   \n",
      "6            0.970595           0.663406            0.955986  0.000000e+00   \n",
      "7            0.982329           0.636491            0.967649  1.192093e-07   \n",
      "8            0.991738           0.618714            0.983201  0.000000e+00   \n",
      "9            0.994464           0.592613            0.991370  0.000000e+00   \n",
      "\n",
      "   std_score_time  std_test_score  std_train_score  \n",
      "0          0.0005        0.048927         0.032784  \n",
      "1          0.0000        0.052317         0.021594  \n",
      "2          0.0000        0.050553         0.013682  \n",
      "3          0.0000        0.060454         0.007056  \n",
      "4          0.0005        0.064079         0.001021  \n",
      "5          0.0005        0.074294         0.004182  \n",
      "6          0.0000        0.071089         0.007305  \n",
      "7          0.0005        0.078183         0.007340  \n",
      "8          0.0000        0.082319         0.004269  \n",
      "9          0.0000        0.089717         0.001547  \n",
      "Trial 4: $420,622.22\n",
      "   mean_fit_time  mean_score_time  mean_test_score  mean_train_score  \\\n",
      "0          0.001           0.0005         0.431703          0.466264   \n",
      "1          0.001           0.0000         0.684025          0.748743   \n",
      "2          0.001           0.0000         0.751551          0.826086   \n",
      "3          0.001           0.0005         0.769466          0.873058   \n",
      "4          0.001           0.0000         0.758542          0.905072   \n",
      "5          0.001           0.0010         0.724046          0.939414   \n",
      "6          0.001           0.0000         0.702097          0.959732   \n",
      "7          0.001           0.0005         0.692344          0.980153   \n",
      "8          0.001           0.0010         0.684833          0.990006   \n",
      "9          0.001           0.0005         0.668658          0.994378   \n",
      "\n",
      "  param_max_depth              params  rank_test_score  split0_test_score  \\\n",
      "0               1   {u'max_depth': 1}               10           0.405861   \n",
      "1               2   {u'max_depth': 2}                8           0.674736   \n",
      "2               3   {u'max_depth': 3}                3           0.775156   \n",
      "3               4   {u'max_depth': 4}                1           0.788704   \n",
      "4               5   {u'max_depth': 5}                2           0.779435   \n",
      "5               6   {u'max_depth': 6}                4           0.741728   \n",
      "6               7   {u'max_depth': 7}                5           0.728122   \n",
      "7               8   {u'max_depth': 8}                6           0.716172   \n",
      "8               9   {u'max_depth': 9}                7           0.709999   \n",
      "9              10  {u'max_depth': 10}                9           0.710606   \n",
      "\n",
      "   split0_train_score  split1_test_score  split1_train_score  std_fit_time  \\\n",
      "0            0.482828           0.457677            0.449701  0.000000e+00   \n",
      "1            0.762880           0.693363            0.734605  1.192093e-07   \n",
      "2            0.837330           0.727824            0.814842  0.000000e+00   \n",
      "3            0.890883           0.750129            0.855232  0.000000e+00   \n",
      "4            0.917217           0.737542            0.892926  0.000000e+00   \n",
      "5            0.948399           0.706274            0.930429  0.000000e+00   \n",
      "6            0.970514           0.675938            0.948950  0.000000e+00   \n",
      "7            0.985118           0.668394            0.975188  1.192093e-07   \n",
      "8            0.989568           0.659538            0.990445  0.000000e+00   \n",
      "9            0.993702           0.626495            0.995055  0.000000e+00   \n",
      "\n",
      "   std_score_time  std_test_score  std_train_score  \n",
      "0    4.999638e-04        0.025908         0.016563  \n",
      "1    0.000000e+00        0.009313         0.014137  \n",
      "2    0.000000e+00        0.023666         0.011244  \n",
      "3    4.999638e-04        0.019287         0.017826  \n",
      "4    0.000000e+00        0.020946         0.012145  \n",
      "5    1.192093e-07        0.017727         0.008985  \n",
      "6    0.000000e+00        0.026092         0.010782  \n",
      "7    4.999638e-04        0.023889         0.004965  \n",
      "8    0.000000e+00        0.025230         0.000438  \n",
      "9    5.000830e-04        0.042055         0.000677  \n",
      "Trial 5: $413,334.78\n",
      "   mean_fit_time  mean_score_time  mean_test_score  mean_train_score  \\\n",
      "0         0.0005           0.0005         0.420104          0.473338   \n",
      "1         0.0010           0.0005         0.646864          0.733516   \n",
      "2         0.0005           0.0005         0.723454          0.837838   \n",
      "3         0.0010           0.0000         0.728676          0.885563   \n",
      "4         0.0005           0.0005         0.708294          0.918271   \n",
      "5         0.0010           0.0005         0.683028          0.940241   \n",
      "6         0.0005           0.0005         0.682794          0.965699   \n",
      "7         0.0010           0.0010         0.674779          0.978703   \n",
      "8         0.0010           0.0000         0.670871          0.988727   \n",
      "9         0.0010           0.0000         0.640593          0.994818   \n",
      "\n",
      "  param_max_depth              params  rank_test_score  split0_test_score  \\\n",
      "0               1   {u'max_depth': 1}               10           0.453067   \n",
      "1               2   {u'max_depth': 2}                8           0.648060   \n",
      "2               3   {u'max_depth': 3}                2           0.714384   \n",
      "3               4   {u'max_depth': 4}                1           0.738097   \n",
      "4               5   {u'max_depth': 5}                3           0.704089   \n",
      "5               6   {u'max_depth': 6}                4           0.658785   \n",
      "6               7   {u'max_depth': 7}                5           0.668946   \n",
      "7               8   {u'max_depth': 8}                6           0.658478   \n",
      "8               9   {u'max_depth': 9}                7           0.637313   \n",
      "9              10  {u'max_depth': 10}                9           0.620858   \n",
      "\n",
      "   split0_train_score  split1_test_score  split1_train_score  std_fit_time  \\\n",
      "0            0.456390           0.386972            0.490286        0.0005   \n",
      "1            0.730971           0.645661            0.736062        0.0000   \n",
      "2            0.841677           0.732570            0.833998        0.0005   \n",
      "3            0.897301           0.719207            0.873825        0.0000   \n",
      "4            0.927969           0.712520            0.908574        0.0005   \n",
      "5            0.946489           0.707396            0.933993        0.0000   \n",
      "6            0.967284           0.696713            0.964114        0.0005   \n",
      "7            0.980976           0.691163            0.976431        0.0000   \n",
      "8            0.990779           0.704601            0.986675        0.0000   \n",
      "9            0.995358           0.660428            0.994277        0.0000   \n",
      "\n",
      "   std_score_time  std_test_score  std_train_score  \n",
      "0          0.0005        0.033047         0.016948  \n",
      "1          0.0005        0.001200         0.002545  \n",
      "2          0.0005        0.009093         0.003840  \n",
      "3          0.0000        0.009445         0.011738  \n",
      "4          0.0005        0.004216         0.009698  \n",
      "5          0.0005        0.024305         0.006248  \n",
      "6          0.0005        0.013883         0.001585  \n",
      "7          0.0000        0.016343         0.002272  \n",
      "8          0.0000        0.033644         0.002052  \n",
      "9          0.0000        0.019785         0.000541  \n",
      "Trial 6: $411,931.58\n"
     ]
    },
    {
     "name": "stdout",
     "output_type": "stream",
     "text": [
      "   mean_fit_time  mean_score_time  mean_test_score  mean_train_score  \\\n",
      "0         0.0005           0.0005         0.384160          0.514850   \n",
      "1         0.0005           0.0005         0.662071          0.758727   \n",
      "2         0.0005           0.0005         0.749602          0.849285   \n",
      "3         0.0010           0.0000         0.768884          0.895625   \n",
      "4         0.0010           0.0005         0.759235          0.925385   \n",
      "5         0.0010           0.0005         0.772669          0.943751   \n",
      "6         0.0010           0.0000         0.747040          0.957892   \n",
      "7         0.0010           0.0010         0.730854          0.974576   \n",
      "8         0.0015           0.0005         0.735703          0.983302   \n",
      "9         0.0015           0.0005         0.724725          0.988982   \n",
      "\n",
      "  param_max_depth              params  rank_test_score  split0_test_score  \\\n",
      "0               1   {u'max_depth': 1}               10           0.410913   \n",
      "1               2   {u'max_depth': 2}                9           0.689622   \n",
      "2               3   {u'max_depth': 3}                4           0.790537   \n",
      "3               4   {u'max_depth': 4}                2           0.799942   \n",
      "4               5   {u'max_depth': 5}                3           0.792652   \n",
      "5               6   {u'max_depth': 6}                1           0.790457   \n",
      "6               7   {u'max_depth': 7}                5           0.764833   \n",
      "7               8   {u'max_depth': 8}                7           0.752275   \n",
      "8               9   {u'max_depth': 9}                6           0.769612   \n",
      "9              10  {u'max_depth': 10}                8           0.738594   \n",
      "\n",
      "   split0_train_score  split1_test_score  split1_train_score  std_fit_time  \\\n",
      "0            0.514436           0.357269            0.515264        0.0005   \n",
      "1            0.744759           0.634378            0.772696        0.0005   \n",
      "2            0.844383           0.708458            0.854188        0.0005   \n",
      "3            0.895389           0.737666            0.895860        0.0000   \n",
      "4            0.933643           0.725648            0.917128        0.0000   \n",
      "5            0.951491           0.754789            0.936011        0.0000   \n",
      "6            0.966431           0.729156            0.949354        0.0000   \n",
      "7            0.981870           0.709322            0.967281        0.0000   \n",
      "8            0.988867           0.701620            0.977737        0.0005   \n",
      "9            0.993623           0.710785            0.984341        0.0005   \n",
      "\n",
      "   std_score_time  std_test_score  std_train_score  \n",
      "0          0.0005        0.026822         0.000414  \n",
      "1          0.0005        0.027622         0.013968  \n",
      "2          0.0005        0.041040         0.004902  \n",
      "3          0.0000        0.031138         0.000236  \n",
      "4          0.0005        0.033502         0.008258  \n",
      "5          0.0005        0.017834         0.007740  \n",
      "6          0.0000        0.017838         0.008539  \n",
      "7          0.0000        0.021476         0.007295  \n",
      "8          0.0005        0.033996         0.005565  \n",
      "9          0.0005        0.013905         0.004641  \n",
      "Trial 7: $400,350.00\n",
      "   mean_fit_time  mean_score_time  mean_test_score  mean_train_score  \\\n",
      "0         0.0010           0.0005         0.316319          0.494576   \n",
      "1         0.0010           0.0005         0.644581          0.750280   \n",
      "2         0.0010           0.0000         0.708858          0.839981   \n",
      "3         0.0005           0.0005         0.710976          0.882904   \n",
      "4         0.0010           0.0005         0.699196          0.910811   \n",
      "5         0.0005           0.0005         0.680185          0.934203   \n",
      "6         0.0010           0.0010         0.690912          0.954007   \n",
      "7         0.0010           0.0000         0.690668          0.966820   \n",
      "8         0.0015           0.0000         0.695600          0.977984   \n",
      "9         0.0010           0.0010         0.690653          0.988235   \n",
      "\n",
      "  param_max_depth              params  rank_test_score  split0_test_score  \\\n",
      "0               1   {u'max_depth': 1}               10           0.405487   \n",
      "1               2   {u'max_depth': 2}                9           0.658755   \n",
      "2               3   {u'max_depth': 3}                2           0.682661   \n",
      "3               4   {u'max_depth': 4}                1           0.682216   \n",
      "4               5   {u'max_depth': 5}                3           0.660991   \n",
      "5               6   {u'max_depth': 6}                8           0.650073   \n",
      "6               7   {u'max_depth': 7}                5           0.654312   \n",
      "7               8   {u'max_depth': 8}                6           0.649119   \n",
      "8               9   {u'max_depth': 9}                4           0.660416   \n",
      "9              10  {u'max_depth': 10}                7           0.662839   \n",
      "\n",
      "   split0_train_score  split1_test_score  split1_train_score  std_fit_time  \\\n",
      "0            0.488498           0.226695            0.500654  1.192093e-07   \n",
      "1            0.737616           0.630334            0.762945  0.000000e+00   \n",
      "2            0.831453           0.735190            0.848510  0.000000e+00   \n",
      "3            0.881725           0.739883            0.884083  4.999638e-04   \n",
      "4            0.906358           0.737597            0.915265  1.192093e-07   \n",
      "5            0.922862           0.710451            0.945544  5.000830e-04   \n",
      "6            0.935373           0.727701            0.972641  0.000000e+00   \n",
      "7            0.944780           0.732430            0.988860  0.000000e+00   \n",
      "8            0.961079           0.730965            0.994890  5.000830e-04   \n",
      "9            0.978153           0.718610            0.998318  0.000000e+00   \n",
      "\n",
      "   std_score_time  std_test_score  std_train_score  \n",
      "0    4.999638e-04        0.089396         0.006078  \n",
      "1    4.999638e-04        0.014210         0.012665  \n",
      "2    0.000000e+00        0.026264         0.008529  \n",
      "3    4.999638e-04        0.028834         0.001179  \n",
      "4    4.999638e-04        0.038303         0.004454  \n",
      "5    5.000830e-04        0.030189         0.011341  \n",
      "6    1.192093e-07        0.036694         0.018634  \n",
      "7    0.000000e+00        0.041655         0.022040  \n",
      "8    0.000000e+00        0.035274         0.016905  \n",
      "9    0.000000e+00        0.027886         0.010083  \n",
      "Trial 8: $407,232.00\n",
      "   mean_fit_time  mean_score_time  mean_test_score  mean_train_score  \\\n",
      "0         0.0005           0.0005         0.370725          0.495911   \n",
      "1         0.0005           0.0005         0.641374          0.739093   \n",
      "2         0.0010           0.0005         0.716964          0.837782   \n",
      "3         0.0010           0.0000         0.723287          0.893025   \n",
      "4         0.0005           0.0005         0.726294          0.924089   \n",
      "5         0.0010           0.0000         0.724678          0.950960   \n",
      "6         0.0010           0.0000         0.701172          0.965584   \n",
      "7         0.0010           0.0005         0.703022          0.976828   \n",
      "8         0.0010           0.0000         0.678946          0.985852   \n",
      "9         0.0010           0.0000         0.659578          0.990825   \n",
      "\n",
      "  param_max_depth              params  rank_test_score  split0_test_score  \\\n",
      "0               1   {u'max_depth': 1}               10           0.381917   \n",
      "1               2   {u'max_depth': 2}                9           0.644973   \n",
      "2               3   {u'max_depth': 3}                4           0.745634   \n",
      "3               4   {u'max_depth': 4}                3           0.742789   \n",
      "4               5   {u'max_depth': 5}                1           0.737223   \n",
      "5               6   {u'max_depth': 6}                2           0.705362   \n",
      "6               7   {u'max_depth': 7}                6           0.695770   \n",
      "7               8   {u'max_depth': 8}                5           0.688579   \n",
      "8               9   {u'max_depth': 9}                7           0.672387   \n",
      "9              10  {u'max_depth': 10}                8           0.661166   \n",
      "\n",
      "   split0_train_score  split1_test_score  split1_train_score  std_fit_time  \\\n",
      "0            0.515431           0.359476            0.476390        0.0005   \n",
      "1            0.741672           0.637756            0.736513        0.0005   \n",
      "2            0.836595           0.688146            0.838970        0.0000   \n",
      "3            0.895272           0.703685            0.890778        0.0000   \n",
      "4            0.923170           0.715310            0.925007        0.0005   \n",
      "5            0.949966           0.744094            0.951955        0.0000   \n",
      "6            0.963587           0.706603            0.967581        0.0000   \n",
      "7            0.972340           0.717539            0.981316        0.0000   \n",
      "8            0.982528           0.685540            0.989175        0.0000   \n",
      "9            0.986750           0.657982            0.994900        0.0000   \n",
      "\n",
      "   std_score_time  std_test_score  std_train_score  \n",
      "0          0.0005        0.011220         0.019521  \n",
      "1          0.0005        0.003608         0.002580  \n",
      "2          0.0005        0.028744         0.001187  \n",
      "3          0.0000        0.019552         0.002247  \n",
      "4          0.0005        0.010957         0.000919  \n",
      "5          0.0000        0.019366         0.000995  \n",
      "6          0.0000        0.005416         0.001997  \n",
      "7          0.0005        0.014480         0.004488  \n",
      "8          0.0000        0.006577         0.003324  \n",
      "9          0.0000        0.001592         0.004075  \n",
      "Trial 9: $394,600.00\n"
     ]
    },
    {
     "name": "stdout",
     "output_type": "stream",
     "text": [
      "   mean_fit_time  mean_score_time  mean_test_score  mean_train_score  \\\n",
      "0         0.0005           0.0005         0.394801          0.433495   \n",
      "1         0.0010           0.0000         0.678814          0.733955   \n",
      "2         0.0010           0.0000         0.750947          0.826954   \n",
      "3         0.0005           0.0005         0.768945          0.880748   \n",
      "4         0.0010           0.0000         0.754604          0.917158   \n",
      "5         0.0010           0.0005         0.751597          0.935252   \n",
      "6         0.0010           0.0005         0.727283          0.964527   \n",
      "7         0.0010           0.0005         0.710182          0.977815   \n",
      "8         0.0010           0.0010         0.681845          0.988985   \n",
      "9         0.0010           0.0010         0.694494          0.994458   \n",
      "\n",
      "  param_max_depth              params  rank_test_score  split0_test_score  \\\n",
      "0               1   {u'max_depth': 1}               10           0.411289   \n",
      "1               2   {u'max_depth': 2}                9           0.666526   \n",
      "2               3   {u'max_depth': 3}                4           0.737833   \n",
      "3               4   {u'max_depth': 4}                1           0.760235   \n",
      "4               5   {u'max_depth': 5}                2           0.756628   \n",
      "5               6   {u'max_depth': 6}                3           0.733922   \n",
      "6               7   {u'max_depth': 7}                5           0.713364   \n",
      "7               8   {u'max_depth': 8}                6           0.703181   \n",
      "8               9   {u'max_depth': 9}                8           0.649884   \n",
      "9              10  {u'max_depth': 10}                7           0.684025   \n",
      "\n",
      "   split0_train_score  split1_test_score  split1_train_score  std_fit_time  \\\n",
      "0            0.436760           0.378228            0.430231  4.999638e-04   \n",
      "1            0.745610           0.691166            0.722301  0.000000e+00   \n",
      "2            0.822274           0.764127            0.831634  1.192093e-07   \n",
      "3            0.875112           0.777701            0.886384  4.999638e-04   \n",
      "4            0.920540           0.752570            0.913777  0.000000e+00   \n",
      "5            0.941256           0.769362            0.929249  1.192093e-07   \n",
      "6            0.963462           0.741274            0.965593  0.000000e+00   \n",
      "7            0.977472           0.717219            0.978157  0.000000e+00   \n",
      "8            0.990407           0.713970            0.987563  0.000000e+00   \n",
      "9            0.994681           0.705016            0.994235  0.000000e+00   \n",
      "\n",
      "   std_score_time  std_test_score  std_train_score  \n",
      "0    4.999638e-04        0.016530         0.003265  \n",
      "1    0.000000e+00        0.012320         0.011655  \n",
      "2    0.000000e+00        0.013147         0.004680  \n",
      "3    4.999638e-04        0.008733         0.005636  \n",
      "4    0.000000e+00        0.002029         0.003381  \n",
      "5    5.000830e-04        0.017720         0.006003  \n",
      "6    5.000830e-04        0.013955         0.001066  \n",
      "7    5.000830e-04        0.007019         0.000342  \n",
      "8    1.192093e-07        0.032043         0.001422  \n",
      "9    0.000000e+00        0.010495         0.000223  \n",
      "Trial 10: $413,700.00\n",
      "\n",
      "Range in prices: $29,438.89\n"
     ]
    }
   ],
   "source": [
    "# 请先注释掉 fit_model 函数里的所有 print 语句\n",
    "vs.PredictTrials(features, prices, fit_model, client_data)"
   ]
  },
  {
   "cell_type": "markdown",
   "metadata": {},
   "source": [
    "### 问题 12 - 回答："
   ]
  },
  {
   "cell_type": "markdown",
   "metadata": {},
   "source": [
    "### 问题 13 - 实用性探讨\n",
    "*简单地讨论一下你建构的模型能否在现实世界中使用？* \n",
    "\n",
    "提示：回答以下几个问题，并给出相应结论的理由：\n",
    "- *1978年所采集的数据，在已考虑通货膨胀的前提下，在今天是否仍然适用？*\n",
    "- *数据中呈现的特征是否足够描述一个房屋？*\n",
    "- *在波士顿这样的大都市采集的数据，能否应用在其它乡镇地区？*\n",
    "- *你觉得仅仅凭房屋所在社区的环境来判断房屋价值合理吗？*"
   ]
  },
  {
   "cell_type": "markdown",
   "metadata": {},
   "source": [
    "### 问题 13 - 回答：\n",
    "- *1978年所采集的数据，在已考虑通货膨胀的前提下，在今天仍具有参考性*\n",
    "- *数据中呈现的特征不够描述房屋的特征*\n",
    "- *在波士顿这样的大都市采集的数据，并不能沿用到其他乡镇地区*\n",
    "- *单纯凭借社区环境来判断房屋价格并不合理*\n"
   ]
  },
  {
   "cell_type": "markdown",
   "metadata": {},
   "source": [
    "## 可选问题 - 预测北京房价\n",
    "\n",
    "（本题结果不影响项目是否通过）通过上面的实践，相信你对机器学习的一些常用概念有了很好的领悟和掌握。但利用70年代的波士顿房价数据进行建模的确对我们来说意义不是太大。现在你可以把你上面所学应用到北京房价数据集中 `bj_housing.csv`。\n",
    "\n",
    "免责声明：考虑到北京房价受到宏观经济、政策调整等众多因素的直接影响，预测结果仅供参考。\n",
    "\n",
    "这个数据集的特征有：\n",
    "- Area：房屋面积，平方米\n",
    "- Room：房间数，间\n",
    "- Living: 厅数，间\n",
    "- School: 是否为学区房，0或1\n",
    "- Year: 房屋建造时间，年\n",
    "- Floor: 房屋所处楼层，层\n",
    "\n",
    "目标变量：\n",
    "- Value: 房屋人民币售价，万\n",
    "\n",
    "你可以参考上面学到的内容，拿这个数据集来练习数据分割与重排、定义衡量标准、训练模型、评价模型表现、使用网格搜索配合交叉验证对参数进行调优并选出最佳参数，比较两者的差别，最终得出最佳模型对验证集的预测分数。"
   ]
  },
  {
   "cell_type": "code",
   "execution_count": 77,
   "metadata": {},
   "outputs": [
    {
     "name": "stdout",
     "output_type": "stream",
     "text": [
      "BJ housing dataset has 9999 data points with 7 variables each.\n",
      "Statistics for BJ housing dataset:\n",
      "\n",
      "Minimum price: $66.00\n",
      "Maximum price: $7,450.00\n",
      "Mean price: $342.08\n",
      "Median price $280.00\n",
      "Standard deviation of prices: $259.41\n"
     ]
    },
    {
     "data": {
      "image/png": "[encoded data removed]",
      "text/plain": [
       "<matplotlib.figure.Figure at 0xbed4940>"
      ]
     },
     "metadata": {},
     "output_type": "display_data"
    },
    {
     "data": {
      "image/png": "[encoded data removed]",
      "text/plain": [
       "<matplotlib.figure.Figure at 0xbed42b0>"
      ]
     },
     "metadata": {},
     "output_type": "display_data"
    },
    {
     "name": "stdout",
     "output_type": "stream",
     "text": [
      "Parameter 'max_depth' is 5 for the optimal model.\n",
      "Optimal model has R^2 score 0.26 on test data\n"
     ]
    }
   ],
   "source": [
    "# TODO 6\n",
    "\n",
    "# 导入数据\n",
    "# 载入此项目所需要的库\n",
    "import numpy as np\n",
    "import pandas as pd\n",
    "import visuals as vs # Supplementary code\n",
    "\n",
    "    \n",
    "# 让结果在notebook中显示\n",
    "%matplotlib inline\n",
    "\n",
    "\n",
    "# 1.导入数据\n",
    "data = pd.read_csv('bj_housing.csv')\n",
    "area = data['Area']\n",
    "Room = data['Room']\n",
    "living = data['Living']\n",
    "school = data['School']\n",
    "year = data['Year']\n",
    "Floor = data['Floor']\n",
    "prices = data['Value']\n",
    "features = data.drop('Value', axis = 1)\n",
    "    \n",
    "# 完成\n",
    "print \"BJ housing dataset has {} data points with {} variables each.\".format(*data.shape)\n",
    "\n",
    "# 2. 分析数据\n",
    "\n",
    "minimum_price = prices.min()\n",
    "maximum_price = prices.max()\n",
    "mean_price = prices.mean()\n",
    "median_price = prices.median()\n",
    "std_price = prices.std()\n",
    "\n",
    "#目标：输出计算的结果\n",
    "print \"Statistics for BJ housing dataset:\\n\"\n",
    "print \"Minimum price: ${:,.2f}\".format(minimum_price)\n",
    "print \"Maximum price: ${:,.2f}\".format(maximum_price)\n",
    "print \"Mean price: ${:,.2f}\".format(mean_price)\n",
    "print \"Median price ${:,.2f}\".format(median_price)\n",
    "print \"Standard deviation of prices: ${:,.2f}\".format(std_price)\n",
    "\n",
    "\n",
    "X_train, X_test, y_train, y_test = generate_train_and_test(features, prices)\n",
    "\n",
    "# 学习曲线\n",
    "vs.ModelLearning(X_train, y_train)\n",
    "\n",
    "\n",
    "# 根据不同的最大深度参数，生成复杂度曲线\n",
    "vs.ModelComplexity(X_train, y_train)\n",
    "\n",
    "\n",
    "optimal_reg = fit_model(X_train, y_train)\n",
    "\n",
    "# 输出最优模型的 'max_depth' 参数\n",
    "print \"Parameter 'max_depth' is {} for the optimal model.\".format(optimal_reg.get_params()['max_depth'])\n",
    "\n",
    "# 模型评价\n",
    "y_pre = optimal_reg.predict(X_test)\n",
    "r2 = r2_score(y_test,y_pre)\n",
    "\n",
    "print \"Optimal model has R^2 score {:,.2f} on test data\".format(r2)"
   ]
  },
  {
   "cell_type": "markdown",
   "metadata": {},
   "source": [
    "### 问题14 - 北京房价预测\n",
    "你成功的用新的数据集构建了模型了吗？他能对测试数据进行验证吗？它的表现是否符合你的预期？交叉验证是否有助于提升你模型的表现？\n",
    "\n",
    "**提示：**如果你是从零开始构建机器学习的代码会让你一时觉得无从下手。这时不要着急，你要做的只是查看之前写的代码，把每一行都看明白，然后逐步构建你的模型。当中遇到什么问题也可以在我们论坛寻找答案。也许你会发现你所构建的模型的表现并没有达到你的预期，这说明机器学习并非是一项简单的任务，构建一个表现良好的模型需要长时间的研究和测试。这也是我们接下来的课程中会逐渐学到的。"
   ]
  },
  {
   "cell_type": "markdown",
   "metadata": {},
   "source": [
    "### 问题14 - 回答\n",
    "\n",
    "R2 指数为0.26  低与期望。\n",
    "交叉验证有助于提升模型的表现，能够找到是方差问题还是偏差问题。"
   ]
  },
  {
   "cell_type": "code",
   "execution_count": null,
   "metadata": {
    "collapsed": true
   },
   "outputs": [],
   "source": []
  }
 ],
 "metadata": {
  "kernelspec": {
   "display_name": "Python 2",
   "language": "python",
   "name": "python2"
  },
  "language_info": {
   "codemirror_mode": {
    "name": "ipython",
    "version": 2
   },
   "file_extension": ".py",
   "mimetype": "text/x-python",
   "name": "python",
   "nbconvert_exporter": "python",
   "pygments_lexer": "ipython2",
   "version": "2.7.13"
  },
  "toc": {
   "colors": {
    "hover_highlight": "#DAA520",
    "navigate_num": "#000000",
    "navigate_text": "#333333",
    "running_highlight": "#FF0000",
    "selected_highlight": "#FFD700",
    "sidebar_border": "#EEEEEE",
    "wrapper_background": "#FFFFFF"
   },
   "moveMenuLeft": true,
   "nav_menu": {
    "height": "512px",
    "width": "252px"
   },
   "navigate_menu": true,
   "number_sections": true,
   "sideBar": true,
   "threshold": 4,
   "toc_cell": false,
   "toc_section_display": "block",
   "toc_window_display": false,
   "widenNotebook": false
  }
 },
 "nbformat": 4,
 "nbformat_minor": 1
}
